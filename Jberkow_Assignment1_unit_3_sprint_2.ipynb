{
  "nbformat": 4,
  "nbformat_minor": 0,
  "metadata": {
    "colab": {
      "name": "Jberkow Assignment1 unit 3 sprint 2.ipynb",
      "provenance": [],
      "collapsed_sections": [],
      "authorship_tag": "ABX9TyM6UgldGEWQESEQPEuM/7u6",
      "include_colab_link": true
    },
    "kernelspec": {
      "name": "python3",
      "display_name": "Python 3"
    }
  },
  "cells": [
    {
      "cell_type": "markdown",
      "metadata": {
        "id": "view-in-github",
        "colab_type": "text"
      },
      "source": [
        "<a href=\"https://colab.research.google.com/github/jberkow713/DS-Unit-3-Sprint-2-SQL-and-Databases/blob/master/Jberkow_Assignment1_unit_3_sprint_2.ipynb\" target=\"_parent\"><img src=\"https://colab.research.google.com/assets/colab-badge.svg\" alt=\"Open In Colab\"/></a>"
      ]
    },
    {
      "cell_type": "code",
      "metadata": {
        "id": "aiNMp3PdMdZ5",
        "colab_type": "code",
        "colab": {}
      },
      "source": [
        "#1) Total characters: 302\n",
        "SELECT\n",
        "  count(name) as character_count -- > counts actual unique values\n",
        "FROM charactercreator_character\n"
      ],
      "execution_count": 0,
      "outputs": []
    },
    {
      "cell_type": "code",
      "metadata": {
        "id": "uJS0v1k5NVUr",
        "colab_type": "code",
        "colab": {}
      },
      "source": [
        "#Fighter---68\n",
        "SELECT \n",
        " count(character_ptr_id) as fighter_count\n",
        " from charactercreator_fighter\n",
        " #Cleric---75\n",
        " SELECT \n",
        " count(character_ptr_id) as cleric_count\n",
        " from charactercreator_cleric\n",
        " #Mage---108\n",
        " SELECT \n",
        " count(character_ptr_id) as mage_count\n",
        " from charactercreator_mage\n",
        " #Necromancer--11\n",
        " SELECT \n",
        " count(mage_ptr_id) as necromancer_count\n",
        " from charactercreator_necromancer\n",
        " #Thief---51\n",
        " SELECT \n",
        " count(character_ptr_id) as thief_count\n",
        " from charactercreator_thief\n",
        " "
      ],
      "execution_count": 0,
      "outputs": []
    },
    {
      "cell_type": "code",
      "metadata": {
        "id": "1-vDOKLBNVW2",
        "colab_type": "code",
        "colab": {}
      },
      "source": [
        "#174 items total\n",
        "SELECT \n",
        " count(item_id) as item_count\n",
        " from armory_item"
      ],
      "execution_count": 0,
      "outputs": []
    },
    {
      "cell_type": "code",
      "metadata": {
        "id": "GJIkuWrjNVbb",
        "colab_type": "code",
        "colab": {}
      },
      "source": [
        "#37 weapons\n",
        "SELECT \n",
        " count(item_ptr_id) as weapon_count\n",
        " from armory_weapon\n",
        " #leaving 137 of the remaining 174 as non-weapons"
      ],
      "execution_count": 0,
      "outputs": []
    },
    {
      "cell_type": "code",
      "metadata": {
        "id": "rzYxRTtXNVeM",
        "colab_type": "code",
        "colab": {}
      },
      "source": [
        "#How many Items does each character have? (Return first 20 rows)\n",
        "\n",
        "\n",
        "SELECT \n",
        "  character_id\n",
        ",count(distinct item_id) as item_count\n",
        "from charactercreator_character_inventory\n",
        "GROUP BY character_id\n",
        "ORDER BY item_count DESC\n",
        "#Limit 20 = first 20 counts"
      ],
      "execution_count": 0,
      "outputs": []
    },
    {
      "cell_type": "code",
      "metadata": {
        "id": "DlDTFABBNVhU",
        "colab_type": "code",
        "colab": {}
      },
      "source": [
        "#weapons for each player, all weapons are between 138-174\n",
        "SELECT \n",
        "\n",
        "character_id\n",
        "\n",
        ",count(distinct item_id) as weapon_count\n",
        "from charactercreator_character_inventory\n",
        "where item_id between 138 and 174\n",
        "group by character_id\n",
        "\n",
        "limit 20\n"
      ],
      "execution_count": 0,
      "outputs": []
    },
    {
      "cell_type": "code",
      "metadata": {
        "id": "FJicL23Xmzoc",
        "colab_type": "code",
        "colab": {}
      },
      "source": [
        "# average items per person\n",
        "SELECT ROUND(1.0 * COUNT(id) / \n",
        "                        COUNT( DISTINCT character_id), 3) \n",
        "                  AS 'Avg. Items/Character'   \n",
        "           FROM charactercreator_character_inventory\n",
        "\n",
        "#first decimal in round, allows for multiplicative and decimal orientation, last number after parentheses, tells how many decimals\n",
        "           "
      ],
      "execution_count": 0,
      "outputs": []
    },
    {
      "cell_type": "code",
      "metadata": {
        "id": "ySxXWD7lmzq9",
        "colab_type": "code",
        "colab": {}
      },
      "source": [
        "# average weapons per person\n",
        "#can not figure out this question \n",
        "\n"
      ],
      "execution_count": 0,
      "outputs": []
    },
    {
      "cell_type": "code",
      "metadata": {
        "id": "4pVM4QOR7QJA",
        "colab_type": "code",
        "colab": {
          "base_uri": "https://localhost:8080/",
          "height": 246
        },
        "outputId": "62c603db-6a44-4103-8534-de77da86d57e"
      },
      "source": [
        ""
      ],
      "execution_count": 1,
      "outputs": [
        {
          "output_type": "error",
          "ename": "NameError",
          "evalue": "ignored",
          "traceback": [
            "\u001b[0;31m---------------------------------------------------------------------------\u001b[0m",
            "\u001b[0;31mNameError\u001b[0m                                 Traceback (most recent call last)",
            "\u001b[0;32m<ipython-input-1-ac3c5d3d3e36>\u001b[0m in \u001b[0;36m<module>\u001b[0;34m()\u001b[0m\n\u001b[1;32m      3\u001b[0m \u001b[0mengine\u001b[0m \u001b[0;34m=\u001b[0m \u001b[0mcreate_engine\u001b[0m\u001b[0;34m(\u001b[0m\u001b[0;34m'sqlite://'\u001b[0m\u001b[0;34m,\u001b[0m \u001b[0mecho\u001b[0m\u001b[0;34m=\u001b[0m\u001b[0;32mFalse\u001b[0m\u001b[0;34m)\u001b[0m\u001b[0;34m\u001b[0m\u001b[0;34m\u001b[0m\u001b[0m\n\u001b[1;32m      4\u001b[0m \u001b[0;34m\u001b[0m\u001b[0m\n\u001b[0;32m----> 5\u001b[0;31m \u001b[0mdf\u001b[0m\u001b[0;34m.\u001b[0m\u001b[0mto_sql\u001b[0m\u001b[0;34m(\u001b[0m\u001b[0;34m'users'\u001b[0m\u001b[0;34m,\u001b[0m \u001b[0mcon\u001b[0m\u001b[0;34m=\u001b[0m\u001b[0mengine\u001b[0m\u001b[0;34m)\u001b[0m\u001b[0;34m\u001b[0m\u001b[0;34m\u001b[0m\u001b[0m\n\u001b[0m\u001b[1;32m      6\u001b[0m \u001b[0;34m\u001b[0m\u001b[0m\n\u001b[1;32m      7\u001b[0m \u001b[0mengine\u001b[0m\u001b[0;34m.\u001b[0m\u001b[0mexecute\u001b[0m\u001b[0;34m(\u001b[0m\u001b[0;34m\"SELECT * FROM users\"\u001b[0m\u001b[0;34m)\u001b[0m\u001b[0;34m.\u001b[0m\u001b[0mfetchall\u001b[0m\u001b[0;34m(\u001b[0m\u001b[0;34m)\u001b[0m\u001b[0;34m\u001b[0m\u001b[0;34m\u001b[0m\u001b[0m\n",
            "\u001b[0;31mNameError\u001b[0m: name 'df' is not defined"
          ]
        }
      ]
    }
  ]
}